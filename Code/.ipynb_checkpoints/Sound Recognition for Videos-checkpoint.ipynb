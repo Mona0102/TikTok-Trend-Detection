{
 "cells": [
  {
   "cell_type": "code",
   "execution_count": null,
   "id": "3ffa5b86",
   "metadata": {},
   "outputs": [],
   "source": [
    "# Import libraries\n",
    "import os\n",
    "# Install selenium\n",
    "from selenium import webdriver\n",
    "from selenium.webdriver.chrome.options import Options\n",
    "import urllib.request\n",
    "from bs4 import BeautifulSoup\n",
    "import moviepy.editor as mp \n",
    "import speech_recognition as sr\n",
    "import time\n",
    "\n",
    "import pandas as pd"
   ]
  },
  {
   "cell_type": "markdown",
   "id": "80e34486",
   "metadata": {},
   "source": [
    "### Download chromedriver and save the .exe file into your folder\n",
    "\n",
    "chromedriver.exe (Download from: https://chromedriver.chromium.org/)"
   ]
  },
  {
   "cell_type": "code",
   "execution_count": null,
   "id": "07b9d5a6",
   "metadata": {},
   "outputs": [],
   "source": [
    "# Read the excel file containing video_url\n",
    "# Change the file name to the file you want to use\n",
    "df = pd.read_excel(\"data/videos_all.xlsx\")"
   ]
  },
  {
   "cell_type": "code",
   "execution_count": null,
   "id": "49b5534c",
   "metadata": {},
   "outputs": [],
   "source": [
    "# Enter the local path of the chromedriver file\n",
    "driver = webdriver.Chrome(r'/Users/Flame/Dropbox/Summer/QMB6930/chromedriver')\n",
    "# A new chrome window will pop out\n",
    "\n",
    "# Set directory\n",
    "os.chdir('/Users/Flame/Dropbox/Summer/QMB6930') # Enter your folder path\n",
    "\n",
    "# Create a temp directory\n",
    "if not os.path.exists(\"./temp\"):\n",
    "    os.makedirs(\"./temp\")"
   ]
  },
  {
   "cell_type": "code",
   "execution_count": null,
   "id": "df22072d",
   "metadata": {
    "scrolled": true
   },
   "outputs": [],
   "source": [
    "# This block of code returns transcript of videos\n",
    "# This may run for hours depending on the amount of videos\n",
    "\n",
    "# Create an empty list for the results\n",
    "result_l = []\n",
    "\n",
    "i = 0\n",
    "for url in df['video_url']:\n",
    "    \n",
    "    i += 1\n",
    "    driver.get(url)\n",
    "    \n",
    "    # give chrome some time to load the page\n",
    "    time.sleep(2)\n",
    "    \n",
    "    # 1. Get page_source\n",
    "    # 2. Parse HTML\n",
    "    # 3. Find the node for the video\n",
    "    video_url = BeautifulSoup(driver.page_source, 'html.parser').find(\"video\")\n",
    "    \n",
    "    try:\n",
    "        # Download video and save as \"./temp/temp.mp4\"\n",
    "        urllib.request.urlretrieve(video_url[\"src\"], './temp/temp.mp4')\n",
    "        \n",
    "        # Rip audio from the video\n",
    "        clip = mp.VideoFileClip('./temp/temp.mp4')\n",
    "        clip.audio.write_audiofile('./temp/temp.wav')\n",
    "        \n",
    "        # Run Speech Recognition\n",
    "        r = sr.Recognizer()\n",
    "        audio_file = sr.AudioFile('./temp/temp.wav')\n",
    "        \n",
    "        with audio_file as source:\n",
    "            r.adjust_for_ambient_noise(source)\n",
    "            audio = r.record(source)\n",
    "            \n",
    "        result = r.recognize_google(audio)\n",
    "\n",
    "    except:\n",
    "        result = ''\n",
    "    \n",
    "    # Save results to the list\n",
    "    result_l.append(result)\n",
    "    # This will show up every time a transcription is done\n",
    "    print('video {} is done.'.format(str(i)))"
   ]
  },
  {
   "cell_type": "code",
   "execution_count": null,
   "id": "364d1602",
   "metadata": {},
   "outputs": [],
   "source": [
    "# Close the webdriver\n",
    "driver.quit()"
   ]
  },
  {
   "cell_type": "code",
   "execution_count": null,
   "id": "77baf873",
   "metadata": {},
   "outputs": [],
   "source": [
    "# Check the length \n",
    "# Make sure the outcome is True, meaning all transcription is done\n",
    "len(result_l) == len(df['video_url'])"
   ]
  },
  {
   "cell_type": "code",
   "execution_count": null,
   "id": "af6acf3d",
   "metadata": {},
   "outputs": [],
   "source": [
    "# Add the list of transcripts to a new column\n",
    "df['video_transcript'] = result_l\n",
    "\n",
    "# Change video id and timestamp to str type\n",
    "df = df.astype({\"video_id\": str, 'video_timestamp': str})"
   ]
  },
  {
   "cell_type": "code",
   "execution_count": null,
   "id": "18416acd",
   "metadata": {},
   "outputs": [],
   "source": [
    "# Save the new dataframe as an excel file (replace the original one)\n",
    "df.to_excel(\"videos_all.xlsx\",sheet_name='videos', index=False) "
   ]
  }
 ],
 "metadata": {
  "kernelspec": {
   "display_name": "Python 3 (ipykernel)",
   "language": "python",
   "name": "python3"
  },
  "language_info": {
   "codemirror_mode": {
    "name": "ipython",
    "version": 3
   },
   "file_extension": ".py",
   "mimetype": "text/x-python",
   "name": "python",
   "nbconvert_exporter": "python",
   "pygments_lexer": "ipython3",
   "version": "3.8.13"
  }
 },
 "nbformat": 4,
 "nbformat_minor": 5
}
