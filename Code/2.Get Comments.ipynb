{
 "cells": [
  {
   "cell_type": "code",
   "execution_count": 1,
   "id": "2e83cd4d",
   "metadata": {},
   "outputs": [],
   "source": [
    "# Import libraries\n",
    "import requests\n",
    "import json\n",
    "import math\n",
    "# From datetime import datetime\n",
    "import time\n",
    "import glob\n",
    "import re\n",
    "\n",
    "import numpy as np\n",
    "import pandas as pd"
   ]
  },
  {
   "cell_type": "code",
   "execution_count": 2,
   "id": "4bf28d41",
   "metadata": {},
   "outputs": [
    {
     "data": {
      "text/plain": [
       "[]"
      ]
     },
     "execution_count": 2,
     "metadata": {},
     "output_type": "execute_result"
    }
   ],
   "source": [
    "# Create an excel file\n",
    "files = glob.glob(r'data/videos/*.xlsx')\n",
    "files.sort()\n",
    "files"
   ]
  },
  {
   "cell_type": "code",
   "execution_count": null,
   "id": "02678f09",
   "metadata": {},
   "outputs": [],
   "source": [
    "# A method to get comments from video link\n",
    "# Copy and paste and modify from TikTok Scraper\n",
    "\n",
    "def getComments(videos_df):\n",
    "    \n",
    "    get_comments_url = \"https://tiktok-scraper2.p.rapidapi.com/video/comments\"\n",
    "    headers = {\n",
    "        \"X-RapidAPI-Key\": \"d5071c594cmsh21246a7ad1062eep1d8006jsnea062d6d3002\",\n",
    "        \"X-RapidAPI-Host\": \"tiktok-scraper2.p.rapidapi.com\"\n",
    "    }\n",
    "\n",
    "    c_video_id_l = []\n",
    "    comment_id_l = []\n",
    "    comment_timestamp_l = []\n",
    "    comment_text_l = []\n",
    "    \n",
    "    for i,video_url in enumerate(videos_df['video_url']):\n",
    "          \n",
    "        pages = math.ceil(videos_df['comments_count'][i] / 50)\n",
    "      \n",
    "        # On each page, get information of each comment and save it to the lists created above\n",
    "        for page in range(pages):\n",
    "            querystring = {\"video_url\":video_url,\"count\":\"50\",\"cursor\":page*50}\n",
    "            response_comments = requests.request(\"GET\", get_comments_url, headers=headers, params=querystring)\n",
    "            time.sleep(1)\n",
    "            json_comments = json.loads(response_comments.text)\n",
    "            \n",
    "            try:\n",
    "                comment_items = json_comments['comments']\n",
    "                # cursor = json_comments['cursor']\n",
    "                \n",
    "                # Get information of each comment (video id, comment id, time, text)\n",
    "                for comment in comment_items:\n",
    "                    c_video_id = comment['aweme_id']\n",
    "                    comment_id = comment['cid']\n",
    "                    comment_timestamp = comment['create_time']\n",
    "                    comment_text = comment['text']\n",
    "                    \n",
    "                    # Add comment information to each list\n",
    "                    c_video_id_l.append(c_video_id)\n",
    "                    comment_id_l.append(comment_id)\n",
    "                    comment_timestamp_l.append(comment_timestamp)\n",
    "                    comment_text_l.append(comment_text)\n",
    "                        \n",
    "            except:\n",
    "                continue\n",
    "    \n",
    "            if json_comments == {}:\n",
    "                break\n",
    "                \n",
    "            if json_comments['has_more'] == 0: # this is initially designed to break when comment extraction is completed\n",
    "                break\n",
    "                \n",
    "    # Save all comments information into a dictionary\n",
    "    comment_dic = {'c_video_id': c_video_id_l,\n",
    "                   'comment_id': comment_id_l,\n",
    "                   'comment_timestamp': comment_timestamp_l,\n",
    "                   'comment_text': comment_text_l\n",
    "                  }\n",
    "    \n",
    "    # Transfer to dataframe\n",
    "    comment_df = pd.DataFrame(comment_dic)\n",
    "    \n",
    "    # Change long numbers to string format so the value will not be changed in the excel files\n",
    "    comment_df = comment_df.astype({\"c_video_id\": str, 'comment_id': str, 'comment_timestamp':str})\n",
    "    \n",
    "    return comment_df\n",
    "    \n",
    "        "
   ]
  },
  {
   "cell_type": "code",
   "execution_count": null,
   "id": "1097911e",
   "metadata": {},
   "outputs": [],
   "source": [
    "# Use video url to get comments and save them to a local file\n",
    "for file in files:\n",
    "    \n",
    "    # Get hashtag name from the file name\n",
    "    hashtag_name = re.findall('([a-z0-9]+)\\.xlsx',file)[0]\n",
    "    \n",
    "    videos_df = pd.read_excel(file)\n",
    "    \n",
    "    comment_df = getComments(videos_df)\n",
    "    \n",
    "    # Save comments table to local files\n",
    "    comment_df.to_excel(\"data/comments/comments_{}.xlsx\".format(hashtag_name), sheet_name='comments', index=False) \n",
    "    \n",
    "    "
   ]
  }
 ],
 "metadata": {
  "kernelspec": {
   "display_name": "Python 3 (ipykernel)",
   "language": "python",
   "name": "python3"
  },
  "language_info": {
   "codemirror_mode": {
    "name": "ipython",
    "version": 3
   },
   "file_extension": ".py",
   "mimetype": "text/x-python",
   "name": "python",
   "nbconvert_exporter": "python",
   "pygments_lexer": "ipython3",
   "version": "3.8.13"
  }
 },
 "nbformat": 4,
 "nbformat_minor": 5
}
